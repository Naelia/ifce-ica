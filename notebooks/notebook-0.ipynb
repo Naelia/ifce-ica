{
 "cells": [
  {
   "cell_type": "markdown",
   "metadata": {},
   "source": [
    "# Introdução ao Jupyter Notebook\n",
    "\n",
    "O Jupyter Notebook é um interfarce gráfica que permite a edição de notebooks em um navegador web, tais como Google Chrome ou Firefox. O nome Jupyter é um acrônimo criado a partir das linguagens de programação que inicialmente foram aceitas pelo Projeto Jupyter: Julia, Python e R. Além dessas, hoje, o Projeto Jupyter suporta também C++, Ruby, Fortran e outras.\n",
    "\n",
    "## Sumário\n",
    "- [Células](#Células)\n",
    " - [Tipos de células](#Tipos-de-células)\n",
    " - [Modos das células](#Modos-das-células)\n",
    " - [Comandos](#Comandos)\n",
    "- [Iteração com o SO](#Iteração-com-o-SO)\n",
    "- [Links](#Links)"
   ]
  },
  {
   "cell_type": "markdown",
   "metadata": {},
   "source": [
    "## Células\n",
    "\n",
    "### Tipos de células\n",
    "- `Markdown`: texto em _markdown_\n",
    "- `Code`: Código em alguma linguagem de programação.\n",
    "  - Utiliza-se o comando `CTRL+Enter` para executar a célula\n",
    "- `NBConvert`: Código externo como Latex, Shell, etc\n",
    "\n",
    "#### Markdown"
   ]
  },
  {
   "cell_type": "markdown",
   "metadata": {},
   "source": [
    "```\n",
    "# Markdown\n",
    "```"
   ]
  },
  {
   "cell_type": "markdown",
   "metadata": {},
   "source": [
    "#### Code"
   ]
  },
  {
   "cell_type": "code",
   "execution_count": null,
   "metadata": {},
   "outputs": [],
   "source": [
    "# Código na linguagem escolhida"
   ]
  },
  {
   "cell_type": "markdown",
   "metadata": {},
   "source": [
    "#### NBConvert"
   ]
  },
  {
   "cell_type": "raw",
   "metadata": {},
   "source": []
  },
  {
   "cell_type": "markdown",
   "metadata": {},
   "source": [
    "### Modos das células\n",
    " - `Modo edição`: Borda verde\n",
    " - `Modo comando`: Borda azul"
   ]
  },
  {
   "cell_type": "code",
   "execution_count": null,
   "metadata": {},
   "outputs": [],
   "source": [
    "# Exemplo"
   ]
  },
  {
   "cell_type": "markdown",
   "metadata": {},
   "source": [
    "#### Comandos\n",
    "\n",
    "- `Ctrl-Enter`: executa a célula;\n",
    "- `Shift-Enter`: executa a célula e cria uma nova célula abaixo no modo de comando;\n",
    "- `Alt-Enter`: executa a célula e cria uma nova célula abaixo no modo de edição;\n",
    "- `Y`: muda a célula para o tipo código;\n",
    "- `M`: muda a célula para o tipo markdown;\n",
    "- `A`: insere célula acima;\n",
    "- `B`: insere célula abaixo;\n",
    "- `X`: recorta a célula;\n",
    "- `C`: copia a célula;\n",
    "- `V`: cola a célula do clipboard abaixo;\n",
    "- `shift-V`: cola a célula do clipboard acima;\n",
    "- `D, D`: deleta uma célula;\n",
    "- `Z`: desfaz o apagar célula; e\n",
    "- `L`: ativa a enumeração das linhas.\n",
    "\n",
    "Outros comandos\n",
    "- `Tab`: autocompleta durante a digitação; e\n",
    "- `Shift-Tab`: abre uma minijanela com parte da documentação sobre a parte do código durante a documentação.\n",
    "\n",
    "## Iteração com o SO\n",
    "Podemos invocar comandos do sistema operacional sem sair do Jupyter. "
   ]
  },
  {
   "cell_type": "code",
   "execution_count": 4,
   "metadata": {},
   "outputs": [
    {
     "name": "stdout",
     "output_type": "stream",
     "text": [
      " O volume na unidade C nÆo tem nome.\n",
      " O N£mero de S‚rie do Volume ‚ BA8A-065E\n",
      "\n",
      " Pasta de C:\\Users\\vauxs\\Projects\\ifce-ica\\notebooks\n",
      "\n",
      "05/10/2020  10:31    <DIR>          .\n",
      "05/10/2020  10:31    <DIR>          ..\n",
      "05/10/2020  10:02    <DIR>          .ipynb_checkpoints\n",
      "24/08/2020  14:52            52.025 ann.ipynb\n",
      "05/10/2020  10:31             3.752 notebook-0.ipynb\n",
      "05/10/2020  10:30               201 README.md\n",
      "               3 arquivo(s)         55.978 bytes\n",
      "               3 pasta(s)   244.481.073.152 bytes dispon¡veis\n"
     ]
    }
   ],
   "source": [
    "!dir"
   ]
  },
  {
   "cell_type": "markdown",
   "metadata": {},
   "source": [
    "### Links\n",
    "- [https://letscode-academy.com/blog/introducao-ao-jupyter-notebook/](https://letscode-academy.com/blog/introducao-ao-jupyter-notebook/)"
   ]
  }
 ],
 "metadata": {
  "kernelspec": {
   "display_name": "Python 3",
   "language": "python",
   "name": "python3"
  },
  "language_info": {
   "codemirror_mode": {
    "name": "ipython",
    "version": 3
   },
   "file_extension": ".py",
   "mimetype": "text/x-python",
   "name": "python",
   "nbconvert_exporter": "python",
   "pygments_lexer": "ipython3",
   "version": "3.8.1"
  }
 },
 "nbformat": 4,
 "nbformat_minor": 4
}

{
 "cells": [
  {
   "cell_type": "markdown",
   "metadata": {},
   "source": [
    "# Introdução ao Google Colab\n",
    "\n",
    "## Sumário\n",
    "\n",
    " - [Benefícios do Colab](#Benefícios-do-Colab)\n",
    " - [Criando um notebook](#Criando-um-notebook)\n",
    " - [Utilizando a GPU Gratis](#Utilizando-a-GPU-Gratis)\n",
    "\n",
    "## Benefícios do Colab\n",
    "\n",
    "- Suporte para Python 2.7 e Python 3.6;\n",
    "- Aceleração de **GPU grátis**;\n",
    "- Bibliotecas pré-instaladas: Todas as principais bibliotecas Python, como o TensorFlow, o Scikit-learn, o Matplotlib, entre muitas outras, estão pré-instaladas e prontas para serem importadas;\n",
    "- Construído com base no **Jupyter Notebook**;\n",
    "- Recurso de colaboração (funciona com uma equipe igual ao Google Docs): o Google Colab permite que os desenvolvedores usem e compartilhem o Jupyter notebook entre si sem precisar baixar, instalar ou executar qualquer coisa que não seja um navegador;\n",
    "- Suporta comandos bash;\n",
    "- Os notebooks do Google Colab são armazenados no drive.\n",
    "\n",
    "## Criando um notebook\n",
    "\n",
    "### Modo 1\n",
    "\n",
    "1. Abra o [Google Colab](https://colab.research.google.com/notebooks/welcome.ipynb#recent=true)\n",
    "2. Clique em “novo notebook” e selecione o notebook Python 3.\n",
    "\n",
    "### Modo 2\n",
    "\n",
    "1. Abra o [Google Drive](https://drive.google.com/drive/)\n",
    "2. Crie uma pastas para o projeto\n",
    "3. Clique em `Novo > Mais > Colaboratory`\n",
    "\n",
    "\n",
    "## Utilizando a GPU Gratis\n",
    "\n",
    "\n",
    "O hardware padrão do Google Colab é a CPU ou pode ser GPU.\n",
    "\n",
    "1. Clique em `Editar > Configurações do notebook > Acelerador de hardware > GPU`.\n",
    "\n",
    "\n",
    "## Links\n",
    "- [https://medium.com/machina-sapiens/google-colab-guia-do-iniciante-334d70aad531](https://medium.com/machina-sapiens/google-colab-guia-do-iniciante-334d70aad531)"
   ]
  }
 ],
 "metadata": {
  "kernelspec": {
   "display_name": "Python 3",
   "language": "python",
   "name": "python3"
  },
  "language_info": {
   "codemirror_mode": {
    "name": "ipython",
    "version": 3
   },
   "file_extension": ".py",
   "mimetype": "text/x-python",
   "name": "python",
   "nbconvert_exporter": "python",
   "pygments_lexer": "ipython3",
   "version": "3.8.1"
  }
 },
 "nbformat": 4,
 "nbformat_minor": 4
}

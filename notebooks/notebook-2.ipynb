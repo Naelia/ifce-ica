{
 "cells": [
  {
   "cell_type": "markdown",
   "metadata": {},
   "source": [
    "# Python\n",
    "## Tipos de dados\n",
    "- Básicos\n",
    " - `int`\n",
    " - `float`\n",
    " - `string`\n",
    " \n",
    " \n",
    "- Complexos\n",
    " - `list`\n",
    " - `tuple`\n",
    " - `set`\n",
    " - `dictionary`\n",
    " \n",
    "### Listas\n",
    " - Capaz de agrupar vários tipos de dados"
   ]
  },
  {
   "cell_type": "code",
   "execution_count": 23,
   "metadata": {},
   "outputs": [
    {
     "name": "stdout",
     "output_type": "stream",
     "text": [
      "Tipo: <class 'list'>\n",
      "Lista: ['a', 'b', 1, 2, 3, ['c', 3, 'p', 'o'], 3.14]\n"
     ]
    }
   ],
   "source": [
    "# Inicializando uma lista\n",
    "l = ['a', 'b', 1, 2, 3, ['c', 3, 'p', 'o'], 3.14]\n",
    "\n",
    "# Visualizando\n",
    "print('Tipo:', type(l))\n",
    "print('Lista:', l)"
   ]
  },
  {
   "cell_type": "markdown",
   "metadata": {},
   "source": [
    "#### Acessando elementos\n",
    "```\n",
    "lista[<índice>]\n",
    "```"
   ]
  },
  {
   "cell_type": "code",
   "execution_count": 6,
   "metadata": {},
   "outputs": [
    {
     "name": "stdout",
     "output_type": "stream",
     "text": [
      "Primeiro: a\n",
      "Segundo: b\n",
      "Terceiro: c\n"
     ]
    }
   ],
   "source": [
    "print('Primeiro:', l[0])\n",
    "print('Segundo:',  l[1])\n",
    "print('Terceiro:', l[2])"
   ]
  },
  {
   "cell_type": "code",
   "execution_count": 20,
   "metadata": {},
   "outputs": [
    {
     "name": "stdout",
     "output_type": "stream",
     "text": [
      "Último elemento:\n",
      " Via index: 3.14\n",
      " Via len: 3.14\n",
      " Via index negativo: 3.14\n"
     ]
    }
   ],
   "source": [
    "print('Último elemento:')\n",
    "print(' Via index:', l[6])\n",
    "print(' Via len:', l[len(l) - 1])\n",
    "print(' Via index negativo:', l[-1])"
   ]
  },
  {
   "cell_type": "code",
   "execution_count": 22,
   "metadata": {},
   "outputs": [
    {
     "name": "stdout",
     "output_type": "stream",
     "text": [
      "Penúltimo elemento: ['c', 3, 'p', 0]\n"
     ]
    }
   ],
   "source": [
    "print('Penúltimo elemento:', l[-2])"
   ]
  },
  {
   "cell_type": "markdown",
   "metadata": {},
   "source": [
    "#### Indexação Multinível"
   ]
  },
  {
   "cell_type": "code",
   "execution_count": 26,
   "metadata": {},
   "outputs": [
    {
     "name": "stdout",
     "output_type": "stream",
     "text": [
      "Indexação Multinível: \n",
      "Primeiro nível: ['c', 3, 'p', 'o'] <class 'list'>\n",
      "Segundo nível: 3 <class 'int'>\n"
     ]
    }
   ],
   "source": [
    "print('Indexação Multinível: ')\n",
    "print('Primeiro nível:', l[5], type(l[5]))\n",
    "print('Segundo nível:', l[5][1], type(l[5][1]))\n"
   ]
  },
  {
   "cell_type": "markdown",
   "metadata": {},
   "source": [
    "#### Slicing\n",
    "```\n",
    "lista[<índice_início>:<índice_fim>]\n",
    "```"
   ]
  },
  {
   "cell_type": "code",
   "execution_count": 17,
   "metadata": {},
   "outputs": [
    {
     "name": "stdout",
     "output_type": "stream",
     "text": [
      "[0, 1, 4, 9, 16, 25, 36, 49, 64, 81]\n"
     ]
    }
   ],
   "source": [
    "l = [i**2 for i in range(10)]\n",
    "print(l)"
   ]
  },
  {
   "cell_type": "code",
   "execution_count": 49,
   "metadata": {},
   "outputs": [
    {
     "data": {
      "text/plain": [
       "[0, 1, 4]"
      ]
     },
     "execution_count": 49,
     "metadata": {},
     "output_type": "execute_result"
    }
   ],
   "source": [
    "# Elementos 0 ~ 2\n",
    "l[0:3]"
   ]
  },
  {
   "cell_type": "code",
   "execution_count": 50,
   "metadata": {},
   "outputs": [
    {
     "data": {
      "text/plain": [
       "[9, 16, 25]"
      ]
     },
     "execution_count": 50,
     "metadata": {},
     "output_type": "execute_result"
    }
   ],
   "source": [
    "# Elementos 3 ~ 5\n",
    "l[3:6]"
   ]
  },
  {
   "cell_type": "code",
   "execution_count": 51,
   "metadata": {},
   "outputs": [
    {
     "data": {
      "text/plain": [
       "[0, 1, 4]"
      ]
     },
     "execution_count": 51,
     "metadata": {},
     "output_type": "execute_result"
    }
   ],
   "source": [
    "# Até o terceiro elemento\n",
    "l[:3]"
   ]
  },
  {
   "cell_type": "code",
   "execution_count": 52,
   "metadata": {},
   "outputs": [
    {
     "data": {
      "text/plain": [
       "[4, 9, 16, 25, 36, 49, 64, 81]"
      ]
     },
     "execution_count": 52,
     "metadata": {},
     "output_type": "execute_result"
    }
   ],
   "source": [
    "# Do terceiro elemento em diante\n",
    "l[2:]"
   ]
  },
  {
   "cell_type": "markdown",
   "metadata": {},
   "source": [
    "#### Looping"
   ]
  },
  {
   "cell_type": "code",
   "execution_count": 18,
   "metadata": {},
   "outputs": [
    {
     "name": "stdout",
     "output_type": "stream",
     "text": [
      "0\n",
      "1\n",
      "4\n",
      "9\n",
      "16\n",
      "25\n",
      "36\n",
      "49\n",
      "64\n",
      "81\n"
     ]
    }
   ],
   "source": [
    "# Por elemento\n",
    "for i in l:\n",
    "    print(i)"
   ]
  },
  {
   "cell_type": "code",
   "execution_count": 19,
   "metadata": {},
   "outputs": [
    {
     "name": "stdout",
     "output_type": "stream",
     "text": [
      "0\n",
      "1\n",
      "4\n",
      "9\n",
      "16\n",
      "25\n",
      "36\n",
      "49\n",
      "64\n",
      "81\n"
     ]
    }
   ],
   "source": [
    "# Por índice\n",
    "for i in range(len(l)):\n",
    "    print(l[i])"
   ]
  },
  {
   "cell_type": "code",
   "execution_count": 23,
   "metadata": {},
   "outputs": [
    {
     "name": "stdout",
     "output_type": "stream",
     "text": [
      "0: 0\n",
      "1: 1\n",
      "2: 4\n",
      "3: 9\n",
      "4: 16\n",
      "5: 25\n",
      "6: 36\n",
      "7: 49\n",
      "8: 64\n",
      "9: 81\n"
     ]
    }
   ],
   "source": [
    "# Por enumeração\n",
    "for i, v in enumerate(l):\n",
    "    print(f'{i}: {v}')"
   ]
  },
  {
   "cell_type": "markdown",
   "metadata": {},
   "source": [
    "### Dicionários\n",
    "```\n",
    "{\n",
    "    chave_0: valor,\n",
    "    chave_1: valor,\n",
    "    ...\n",
    "    chave_n: valor\n",
    "}```"
   ]
  },
  {
   "cell_type": "code",
   "execution_count": 13,
   "metadata": {},
   "outputs": [
    {
     "data": {
      "text/plain": [
       "{'disc': 'Inteligência Computacional Aplicada',\n",
       " 'sem': '2020.1',\n",
       " 'inst': 'IFCE',\n",
       " 'alunos': [{'nome': 'aluno 1', 'mat': 1},\n",
       "  {'nome': 'aluno 2', 'mat': 2},\n",
       "  {'nome': 'aluno 3', 'mat': 3}]}"
      ]
     },
     "execution_count": 13,
     "metadata": {},
     "output_type": "execute_result"
    }
   ],
   "source": [
    "aula = {\n",
    "    'disc': 'Inteligência Computacional Aplicada',\n",
    "    'sem': '2020.1',\n",
    "    'inst': 'IFCE',\n",
    "    'alunos': [\n",
    "        {'nome': 'aluno 1', 'mat': 1},\n",
    "        {'nome': 'aluno 2', 'mat': 2},\n",
    "        {'nome': 'aluno 3', 'mat': 3}\n",
    "    ]\n",
    "}\n",
    "\n",
    "aula"
   ]
  },
  {
   "cell_type": "markdown",
   "metadata": {},
   "source": [
    "#### Acessando elementos\n",
    "```\n",
    "dicionario[<chave>]\n",
    "```"
   ]
  },
  {
   "cell_type": "code",
   "execution_count": 6,
   "metadata": {},
   "outputs": [
    {
     "name": "stdout",
     "output_type": "stream",
     "text": [
      "Disciplina: Inteligência Computacional Aplicada\n",
      "Semestre: 2020.1\n",
      "Instituição: IFCE\n"
     ]
    }
   ],
   "source": [
    "print('Disciplina:', aula['disc'])\n",
    "print('Semestre:', aula['sem'])\n",
    "print('Instituição:', aula['inst'])"
   ]
  },
  {
   "cell_type": "markdown",
   "metadata": {},
   "source": [
    "#### Indexação Multinível"
   ]
  },
  {
   "cell_type": "code",
   "execution_count": 15,
   "metadata": {},
   "outputs": [
    {
     "name": "stdout",
     "output_type": "stream",
     "text": [
      "Primeiro aluno:\n",
      " Nome: aluno 1\n",
      " Matrícula: 1\n",
      "\n",
      "Último aluno:\n",
      " Nome: aluno 3\n",
      " Matrícula: 3\n"
     ]
    }
   ],
   "source": [
    "print('Primeiro aluno:')\n",
    "print(' Nome:', aula['alunos'][0]['nome'])\n",
    "print(' Matrícula:', aula['alunos'][0]['mat'])\n",
    "\n",
    "print('\\nÚltimo aluno:')\n",
    "print(' Nome:', aula['alunos'][-1]['nome'])\n",
    "print(' Matrícula:', aula['alunos'][-1]['mat'])"
   ]
  },
  {
   "cell_type": "markdown",
   "metadata": {},
   "source": [
    "#### Looping"
   ]
  },
  {
   "cell_type": "code",
   "execution_count": 25,
   "metadata": {},
   "outputs": [
    {
     "name": "stdout",
     "output_type": "stream",
     "text": [
      "disc\n",
      "sem\n",
      "inst\n",
      "alunos\n"
     ]
    }
   ],
   "source": [
    "# Chaves\n",
    "for key in aula:\n",
    "    print(key)"
   ]
  },
  {
   "cell_type": "code",
   "execution_count": 29,
   "metadata": {},
   "outputs": [
    {
     "name": "stdout",
     "output_type": "stream",
     "text": [
      "\n",
      "disc:\n",
      " Inteligência Computacional Aplicada\n",
      "\n",
      "sem:\n",
      " 2020.1\n",
      "\n",
      "inst:\n",
      " IFCE\n",
      "\n",
      "alunos:\n",
      " [{'nome': 'aluno 1', 'mat': 1}, {'nome': 'aluno 2', 'mat': 2}, {'nome': 'aluno 3', 'mat': 3}]\n"
     ]
    }
   ],
   "source": [
    "# Usando a chave\n",
    "for k in aula:\n",
    "    print(f'\\n{k}:\\n {aula[k]}')"
   ]
  },
  {
   "cell_type": "code",
   "execution_count": 34,
   "metadata": {},
   "outputs": [
    {
     "name": "stdout",
     "output_type": "stream",
     "text": [
      "\n",
      "Disc:\n",
      " Inteligência Computacional Aplicada\n",
      "\n",
      "Sem:\n",
      " 2020.1\n",
      "\n",
      "Inst:\n",
      " IFCE\n",
      "\n",
      "Alunos:\n",
      " [{'nome': 'aluno 1', 'mat': 1}, {'nome': 'aluno 2', 'mat': 2}, {'nome': 'aluno 3', 'mat': 3}]\n"
     ]
    }
   ],
   "source": [
    "# Itens\n",
    "for k, v in aula.items():\n",
    "    print(f'\\n{k}:\\n {v}')"
   ]
  },
  {
   "cell_type": "markdown",
   "metadata": {},
   "source": [
    "## Funções Lambda\n",
    "```\n",
    "lambda p_0, p_1, ..., p_n: <expressão>\n",
    "```\n",
    "\n",
    "### Exemplos"
   ]
  },
  {
   "cell_type": "code",
   "execution_count": 39,
   "metadata": {},
   "outputs": [
    {
     "data": {
      "text/plain": [
       "23"
      ]
     },
     "execution_count": 39,
     "metadata": {},
     "output_type": "execute_result"
    }
   ],
   "source": [
    "# Função do primeiro grau\n",
    "h = lambda x: 3 + 2*x\n",
    "\n",
    "h(10)"
   ]
  },
  {
   "cell_type": "code",
   "execution_count": 38,
   "metadata": {},
   "outputs": [
    {
     "data": {
      "text/plain": [
       "5.0"
      ]
     },
     "execution_count": 38,
     "metadata": {},
     "output_type": "execute_result"
    }
   ],
   "source": [
    "import math\n",
    "\n",
    "# Pitágoras\n",
    "p = lambda a, b: math.sqrt(a**2 + b**2)\n",
    "\n",
    "p(3, 4)"
   ]
  },
  {
   "cell_type": "code",
   "execution_count": 43,
   "metadata": {},
   "outputs": [
    {
     "name": "stdout",
     "output_type": "stream",
     "text": [
      "Antes: [(1, 2), (1, 3), (3, 12), (4, 1)]\n",
      "Depois: [(4, 1), (1, 2), (1, 3), (3, 12)]\n"
     ]
    }
   ],
   "source": [
    "l = [(1, 2), (1, 3), (3, 12), (4, 1)]\n",
    "\n",
    "print('Antes:', l)\n",
    "print('Depois:', sorted(l, key=lambda x: x[1]/x[0]))"
   ]
  }
 ],
 "metadata": {
  "kernelspec": {
   "display_name": "Python 3",
   "language": "python",
   "name": "python3"
  },
  "language_info": {
   "codemirror_mode": {
    "name": "ipython",
    "version": 3
   },
   "file_extension": ".py",
   "mimetype": "text/x-python",
   "name": "python",
   "nbconvert_exporter": "python",
   "pygments_lexer": "ipython3",
   "version": "3.8.1"
  }
 },
 "nbformat": 4,
 "nbformat_minor": 4
}
